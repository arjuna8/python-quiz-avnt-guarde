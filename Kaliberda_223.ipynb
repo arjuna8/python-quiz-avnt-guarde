{
  "metadata": {
    "kernelspec": {
      "name": "python",
      "display_name": "Python (Pyodide)",
      "language": "python"
    },
    "language_info": {
      "codemirror_mode": {
        "name": "python",
        "version": 3
      },
      "file_extension": ".py",
      "mimetype": "text/x-python",
      "name": "python",
      "nbconvert_exporter": "python",
      "pygments_lexer": "ipython3",
      "version": "3.8"
    }
  },
  "nbformat_minor": 4,
  "nbformat": 4,
  "cells": [
    {
      "cell_type": "markdown",
      "source": "10 вопросов по теме авангард в 1900-1930-х гг. Игрок копирует и вставляет вариант ответа. Программа предлагает правильный вариант в случае ошибки. Функция check_answer проверяет, является ли ответ пользователя правильным. Функция write_results_to_file записывает результаты в файл. Функция incorrect_answer выводит сообщение о неправильном ответе. В основном цикле программа задает вопросы пользователю и проверяет ответы, используя цикл while для повторения вопроса при ошибке игрока.\nРезультаты викторины сохраняются в файл Final_results.txt, включая вопросы, варианты ответов, правильные ответы и итоговый счет. Результат считается хорошим, если набрано от 5 баллов.",
      "metadata": {}
    },
    {
      "cell_type": "code",
      "source": "# Импортируем модуль для работы с файлами\nimport os\n\n# Создаем словарь с вопросами, вариантами ответов и правильными ответами\nquestions = {\n    \"Вопрос 1. Кого называют вождем итальянского футуризма?\": {\n        \"options\": [\"Филиппо Томмазо Маринетти\", \"Джакомо Балла\", \"Умберто Боччони\"],\n        \"correct\": \"Филиппо Томмазо Маринетти\",\n        \"score\": 1\n    },\n    \"Вопрос 2. Кто из этих людей художник, меценат, организовавший прием Маринетти в Петербурге в 1914 году\": {\n        \"options\": [\"Лилия Брик\", \"Николай Кульбин\", \"Давид Бурлюк\"],\n        \"correct\": \"Николай Кульбин\",\n        \"score\": 1\n    },\n    \"Вопрос 3. Кто придумал название для художественного объединения Бубновый валет?\": {\n        \"options\": [\"Ольга Розанова\", \"Казимир Малевич\", \"Михаил Ларионов\"],\n        \"correct\": \"Михаил Ларионов\",\n        \"score\": 1\n    },\n    \"Вопрос 4. Кто начал создание Инхука?\": {\n        \"options\": [\"Марк Шагал\", \"Василий Кандинский\", \"Нина Коган\"],\n        \"correct\": \"Василий Кандинский\",\n        \"score\": 1\n    },\n    \"Вопрос 5. Кого называют родоначальником русского конструктивизма?\": {\n        \"options\": [\"Владимир Татлин\", \"Эль Лисицкий\", \"Вера Ермолаева\"],\n        \"correct\": \"Владимир Татлин\",\n        \"score\": 1\n    },\n    \"Вопрос 6. Кто начал постановку оперы Победа над солнцем и написал для неё музыку?\": {\n        \"options\": [\"Елене Гуро\", \"Михаил Матюшин\", \"Алексей Кручёных\"],\n        \"correct\": \"Михаил Матюшин\",\n        \"score\": 1\n    },\n    \"Вопрос 7. В каком году происходила выставка Бубновый валет\": {\n        \"options\": [\"1913\", \"1910\", \"1914\"],\n        \"correct\": \"1910\",\n        \"score\": 1\n    },\n    \"Вопрос 8. На выставке Ослиный хвост 1912 года Михаил Ларионов выставил программу -- возврат к архичному искусству. Как она называлась?\": {\n        \"options\": [\"неопримитивизм\", \"кубизм\", \"фовизм\"],\n        \"correct\": \"неопримитивизм\",\n        \"score\": 1\n    },\n    \"Вопрос 9. Сведение мира к тотальности геометрических форм -- это\": {\n        \"options\": [\"супрематизм\", \"футуризм\", \"сложный вопрос...\"],\n        \"correct\": \"супрематизм\",\n        \"score\": 1\n    },\n    \"Вопрос 10. Участник группы ЛЕФ, создавал в СССР минималистичную рекламу --\": {\n        \"options\": [\"Павел Кузнецов\", \"Владимир Татлин\", \"Александр Родченко\"],\n        \"correct\": \"Александр Родченко\",\n        \"score\": 1\n    },\n}\n\n\n# функция, проверяющая ответ игрока\ndef check_answer(question, user_answer):\n    if user_answer == questions[question][\"correct\"]:\n        return True\n    else:\n        return False\n\n\n# функция, которая выводит сообщение о неправильном ответе\ndef incorrect_answer(question):\n    print(f\"Не попали!. Правильный ответ: {questions[question]['correct']}\")\n\n\n# функция для записи результатов в файл\ndef write_results_to_file(user_score):\n    with open(\"Final_results.txt\", \"w\") as file:\n        for question, details in questions.items():\n            file.write(f\"{question}: {details['options']}\\n\")\n            file.write(f\"Ваш ответ: {details['user_answer']}\\n\")\n            file.write(f\"Правильный ответ: {details['correct']}\\n\")\n        file.write(f\"\\nВаш итоговый результат: {user_score}\\n\")\n        if user_score >= 5:\n            file.write(\"Хороший результат! Вы в теме\")\n        else:\n            file.write(\"Не вышло!\")\n\n\n# основной цикл программы\nuser_score = 0 # переменная-счетчик\nfor question in questions:\n    print(question) # вывод вопроса\n    print(\"Варианты ответов:\")\n    for option in questions[question][\"options\"]: # обращение к элементу словаря, обозначающему правильный ответ\n        print(option)\n    user_answer = input(\"Скопируйте и вставьте правильный ответ: \")\n    while not check_answer(question, user_answer):\n        incorrect_answer(question)\n        user_answer = input(\"Попробуйте еще раз: \")\n    questions[question][\"user_answer\"] = user_answer\n    # удаляем увеличение счета здесь\n\n# проверяем все вопросы и увеличиваем счет, если ответ был правильным\nfor question in questions:\n    if check_answer(question, questions[question][\"user_answer\"]):\n        user_score += questions[question][\"score\"] # добавление балла\n\n# запись результата в файл\nwrite_results_to_file(user_score)\n\nprint(f\"Ваш итоговый счет: {user_score}\")\nif user_score >= 5: # хороший результат от 5 баллов\n    print(\"Хороший результат! Вашему бунтарскому духу можно позавидовать\")\nelse:\n    print(\"Не вышло...\")\n",
      "metadata": {
        "trusted": true
      },
      "outputs": [],
      "execution_count": null
    }
  ]
}